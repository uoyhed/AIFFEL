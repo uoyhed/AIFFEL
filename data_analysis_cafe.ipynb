{
 "cells": [
  {
   "cell_type": "markdown",
   "id": "49d4d2dd",
   "metadata": {},
   "source": [
    "### 이 3개는 필수로 시각화!\n",
    "##### 월별 매출액 추세\n",
    "##### 가장 인기있는 음식/음료\n",
    "##### 가장 많이 팔린 입장권 종류\n",
    "\n",
    "###### entry_data: '모두 스터디카페'의 시간별 입장 기록 데이터\n",
    "###### sales_data: '모두 스터디카페'의 시간별 음식/음료 판매 데이터\n",
    "###### item_data: '모두 스터디카페'에서 판매하고 있는 음식/음료 종류와 가격\n",
    "###### item_entry_data: '모두 스터디카페'에서 판매하고 있는 입장권 종류와 가격"
   ]
  },
  {
   "cell_type": "code",
   "execution_count": 1,
   "id": "26590b7e",
   "metadata": {},
   "outputs": [],
   "source": [
    "import pandas as pd\n",
    "import numpy as np\n",
    "import matplotlib.pyplot as plt\n",
    "import seaborn as sns\n",
    "\n",
    "entry_data = pd.read_csv('~/aiffel/data_analysis_basic/data/entry_data.csv')\n",
    "sales_data = pd.read_csv('~/aiffel/data_analysis_basic/data/sales_data.csv')\n",
    "item_data = pd.read_csv('~/aiffel/data_analysis_basic/data/item_data.csv')\n",
    "item_entry_data = pd.read_csv('~/aiffel/data_analysis_basic/data/item_entry_data.csv')"
   ]
  },
  {
   "cell_type": "code",
   "execution_count": 2,
   "id": "d2c86a51",
   "metadata": {},
   "outputs": [
    {
     "name": "stdout",
     "output_type": "stream",
     "text": [
      "<class 'pandas.core.frame.DataFrame'>\n",
      "RangeIndex: 22555 entries, 0 to 22554\n",
      "Data columns (total 8 columns):\n",
      " #   Column  Non-Null Count  Dtype \n",
      "---  ------  --------------  ----- \n",
      " 0   요금제명    22292 non-null  object\n",
      " 1   입실      22555 non-null  object\n",
      " 2   퇴실      22555 non-null  object\n",
      " 3   이용      22533 non-null  object\n",
      " 4   위치      22555 non-null  object\n",
      " 5   금액      22555 non-null  int64 \n",
      " 6   구분      22555 non-null  object\n",
      " 7   고객      22555 non-null  object\n",
      "dtypes: int64(1), object(7)\n",
      "memory usage: 1.4+ MB\n"
     ]
    }
   ],
   "source": [
    "entry_data.info()"
   ]
  },
  {
   "cell_type": "code",
   "execution_count": 3,
   "id": "ac5408d2",
   "metadata": {},
   "outputs": [
    {
     "name": "stdout",
     "output_type": "stream",
     "text": [
      "<class 'pandas.core.frame.DataFrame'>\n",
      "RangeIndex: 7105 entries, 0 to 7104\n",
      "Data columns (total 8 columns):\n",
      " #   Column  Non-Null Count  Dtype \n",
      "---  ------  --------------  ----- \n",
      " 0   결제일시    7105 non-null   object\n",
      " 1   판매위치    7105 non-null   object\n",
      " 2   상품명     7105 non-null   object\n",
      " 3   결제방식    7105 non-null   object\n",
      " 4   비고      7105 non-null   object\n",
      " 5   판매수량    7105 non-null   int64 \n",
      " 6   결제금액    7105 non-null   object\n",
      " 7   고객      6300 non-null   object\n",
      "dtypes: int64(1), object(7)\n",
      "memory usage: 444.2+ KB\n"
     ]
    }
   ],
   "source": [
    "sales_data.info()"
   ]
  },
  {
   "cell_type": "code",
   "execution_count": 4,
   "id": "5e19edca",
   "metadata": {},
   "outputs": [
    {
     "name": "stdout",
     "output_type": "stream",
     "text": [
      "<class 'pandas.core.frame.DataFrame'>\n",
      "RangeIndex: 174 entries, 0 to 173\n",
      "Data columns (total 4 columns):\n",
      " #   Column  Non-Null Count  Dtype \n",
      "---  ------  --------------  ----- \n",
      " 0   구분      174 non-null    int64 \n",
      " 1   분류      174 non-null    object\n",
      " 2   상품명     174 non-null    object\n",
      " 3   판매금액    174 non-null    object\n",
      "dtypes: int64(1), object(3)\n",
      "memory usage: 5.6+ KB\n"
     ]
    }
   ],
   "source": [
    "item_data.info()"
   ]
  },
  {
   "cell_type": "code",
   "execution_count": 5,
   "id": "e9f0ab60",
   "metadata": {},
   "outputs": [
    {
     "name": "stdout",
     "output_type": "stream",
     "text": [
      "<class 'pandas.core.frame.DataFrame'>\n",
      "RangeIndex: 34 entries, 0 to 33\n",
      "Data columns (total 4 columns):\n",
      " #   Column  Non-Null Count  Dtype \n",
      "---  ------  --------------  ----- \n",
      " 0   순위      34 non-null     int64 \n",
      " 1   분류      34 non-null     object\n",
      " 2   상품명     34 non-null     object\n",
      " 3   판매금액    34 non-null     object\n",
      "dtypes: int64(1), object(3)\n",
      "memory usage: 1.2+ KB\n"
     ]
    }
   ],
   "source": [
    "item_entry_data.info()"
   ]
  },
  {
   "cell_type": "markdown",
   "id": "63a7833d",
   "metadata": {},
   "source": [
    "# 필수 문제1 : 월별 매출액 추세(sales_data를 이용합니다.)\n",
    "### 월별 매출액 추세를 집계하고 그 결과를 시각화해봅니다."
   ]
  },
  {
   "cell_type": "code",
   "execution_count": 6,
   "id": "32611fd7",
   "metadata": {},
   "outputs": [],
   "source": [
    "# 활용할 데이터(sales_data)를 temp_var로 정의하기\n",
    "temp_var = sales_data"
   ]
  },
  {
   "cell_type": "code",
   "execution_count": 7,
   "id": "73209a52",
   "metadata": {},
   "outputs": [],
   "source": [
    "# temp_var의 date열을 만들고, sales_date의 결제일시 중 앞에서 7번째 값까지 할당\n",
    "temp_var['date'] = sales_data['결제일시'].str[:7]"
   ]
  },
  {
   "cell_type": "code",
   "execution_count": 8,
   "id": "0ba5ff2c",
   "metadata": {},
   "outputs": [],
   "source": [
    "# salse_data의 결제금액에 포함된 쉼표(,) 지우기\n",
    "sales_data['결제금액'] = sales_data['결제금액'].str.replace(\",\",\"\")"
   ]
  },
  {
   "cell_type": "code",
   "execution_count": 9,
   "id": "d5cd149c",
   "metadata": {},
   "outputs": [],
   "source": [
    "# salse_data의 결제금액을 숫자형태로 바꾸기\n",
    "sales_data['결제금액'] = sales_data['결제금액'].astype(int)"
   ]
  },
  {
   "cell_type": "code",
   "execution_count": 10,
   "id": "892bd759",
   "metadata": {},
   "outputs": [
    {
     "data": {
      "text/plain": [
       "date\n",
       "2021-02       7000\n",
       "2021-03    2104500\n",
       "2021-04    3116600\n",
       "2021-05    2537000\n",
       "2021-06    3621500\n",
       "2021-07    1215000\n",
       "2021-08    1229000\n",
       "2021-09    1197500\n",
       "2021-10    2138500\n",
       "2021-11    2748500\n",
       "2021-12    3290000\n",
       "2022-01    1430500\n",
       "2022-02    1181500\n",
       "2022-03    1870900\n",
       "2022-04      49900\n",
       "Name: 결제금액, dtype: int64"
      ]
     },
     "execution_count": 10,
     "metadata": {},
     "output_type": "execute_result"
    }
   ],
   "source": [
    "# temp_var의 payment열을 date 기준으로 집계하기\n",
    "a = temp_var['결제금액'].groupby(temp_var['date']).sum()\n",
    "a"
   ]
  },
  {
   "cell_type": "code",
   "execution_count": 33,
   "id": "df6dd78d",
   "metadata": {},
   "outputs": [
    {
     "data": {
      "text/plain": [
       "Text(0, 0.5, 'payment')"
      ]
     },
     "execution_count": 33,
     "metadata": {},
     "output_type": "execute_result"
    },
    {
     "data": {
      "image/png": "[encoded data removed]",
      "text/plain": [
       "<Figure size 432x288 with 1 Axes>"
      ]
     },
     "metadata": {
      "needs_background": "light"
     },
     "output_type": "display_data"
    }
   ],
   "source": [
    "# 집계 결과를 시각화하기\n",
    "a.plot(kind='bar')\n",
    "# plt.title('월별 매출액 추세')\n",
    "plt.xlabel('date')\n",
    "plt.ylabel('payment')"
   ]
  },
  {
   "cell_type": "markdown",
   "id": "c3eb6c5e",
   "metadata": {},
   "source": [
    "# 필수 문제2: 가장 인기 있는 음식/음료(salses_data를 이용합니다.)\n",
    "### 여러 메뉴들(음식,음료)을 판매 개수 순으로 정렬하고 상위 10개를 뽑아 결과를 시각화해봅니다."
   ]
  },
  {
   "cell_type": "code",
   "execution_count": 12,
   "id": "4f2f9bdb",
   "metadata": {},
   "outputs": [
    {
     "data": {
      "text/plain": [
       "결제일시              판매위치  상품명         결제방식  비고    판매수량  결제금액  고객              date   \n",
       "2021-10-05 13:33  선불기1  치즈추가        현금    결제완료  1     500   customer803089  2021-10    4\n",
       "                        라면          현금    결제완료  1     4000  customer803089  2021-10    4\n",
       "2021-10-07 10:05  선불기1  시럽추가        신용카드  결제완료  1     500   customer777135  2021-10    4\n",
       "2021-06-19 21:02  선불기1  라면          신용카드  결제완료  1     4000  customer283589  2021-06    4\n",
       "2021-06-14 11:37  선불기1  치즈추가        신용카드  결제완료  1     500   customer950393  2021-06    3\n",
       "                                                                                      ..\n",
       "2021-06-13 12:59  선불기1  계란추가        신용카드  결제완료  1     500   customer339447  2021-06    1\n",
       "2021-06-13 11:46  선불기1  새우볶음밥       신용카드  결제완료  1     5000  customer950393  2021-06    1\n",
       "2021-06-13 10:33  선불기1  김치볶음밥       신용카드  결제완료  1     5000  customer983308  2021-06    1\n",
       "2021-06-13 10:00  선불기1  김치볶음밥       신용카드  결제완료  1     5000  customer258946  2021-06    1\n",
       "2022-04-01 19:41  선불기1  치킨카라아케 6pc  신용카드  결제완료  1     4500  customer275507  2022-04    1\n",
       "Length: 5988, dtype: int64"
      ]
     },
     "execution_count": 12,
     "metadata": {},
     "output_type": "execute_result"
    }
   ],
   "source": [
    "# temp_var의 상품명을 value_counts를 이용해 집계하기\n",
    "# 주의! value_counts로 바로 집계하면 판매취소와 결제취소가 함께 집계됩니다.\n",
    "# 따라서 '판매수량' 칼럼 값이 '-1'인 데이터를 제외하고 집계해야 합니다.\n",
    "# 힌트 코드 : temp_var[temp_var['판매수량']==-1]\n",
    "b = temp_var[temp_var['판매수량']!=-1].value_counts()\n",
    "b"
   ]
  },
  {
   "cell_type": "code",
   "execution_count": 13,
   "id": "211c9cf9",
   "metadata": {},
   "outputs": [
    {
     "data": {
      "text/html": [
       "<div>\n",
       "<style scoped>\n",
       "    .dataframe tbody tr th:only-of-type {\n",
       "        vertical-align: middle;\n",
       "    }\n",
       "\n",
       "    .dataframe tbody tr th {\n",
       "        vertical-align: top;\n",
       "    }\n",
       "\n",
       "    .dataframe thead th {\n",
       "        text-align: right;\n",
       "    }\n",
       "</style>\n",
       "<table border=\"1\" class=\"dataframe\">\n",
       "  <thead>\n",
       "    <tr style=\"text-align: right;\">\n",
       "      <th></th>\n",
       "      <th></th>\n",
       "      <th></th>\n",
       "      <th></th>\n",
       "      <th></th>\n",
       "      <th></th>\n",
       "      <th></th>\n",
       "      <th></th>\n",
       "      <th></th>\n",
       "      <th>0</th>\n",
       "    </tr>\n",
       "    <tr>\n",
       "      <th>결제일시</th>\n",
       "      <th>판매위치</th>\n",
       "      <th>상품명</th>\n",
       "      <th>결제방식</th>\n",
       "      <th>비고</th>\n",
       "      <th>판매수량</th>\n",
       "      <th>결제금액</th>\n",
       "      <th>고객</th>\n",
       "      <th>date</th>\n",
       "      <th></th>\n",
       "    </tr>\n",
       "  </thead>\n",
       "  <tbody>\n",
       "    <tr>\n",
       "      <th rowspan=\"2\" valign=\"top\">2021-10-05 13:33</th>\n",
       "      <th rowspan=\"2\" valign=\"top\">선불기1</th>\n",
       "      <th>치즈추가</th>\n",
       "      <th>현금</th>\n",
       "      <th>결제완료</th>\n",
       "      <th>1</th>\n",
       "      <th>500</th>\n",
       "      <th>customer803089</th>\n",
       "      <th>2021-10</th>\n",
       "      <td>4</td>\n",
       "    </tr>\n",
       "    <tr>\n",
       "      <th>라면</th>\n",
       "      <th>현금</th>\n",
       "      <th>결제완료</th>\n",
       "      <th>1</th>\n",
       "      <th>4000</th>\n",
       "      <th>customer803089</th>\n",
       "      <th>2021-10</th>\n",
       "      <td>4</td>\n",
       "    </tr>\n",
       "    <tr>\n",
       "      <th>2021-10-07 10:05</th>\n",
       "      <th>선불기1</th>\n",
       "      <th>시럽추가</th>\n",
       "      <th>신용카드</th>\n",
       "      <th>결제완료</th>\n",
       "      <th>1</th>\n",
       "      <th>500</th>\n",
       "      <th>customer777135</th>\n",
       "      <th>2021-10</th>\n",
       "      <td>4</td>\n",
       "    </tr>\n",
       "    <tr>\n",
       "      <th>2021-06-19 21:02</th>\n",
       "      <th>선불기1</th>\n",
       "      <th>라면</th>\n",
       "      <th>신용카드</th>\n",
       "      <th>결제완료</th>\n",
       "      <th>1</th>\n",
       "      <th>4000</th>\n",
       "      <th>customer283589</th>\n",
       "      <th>2021-06</th>\n",
       "      <td>4</td>\n",
       "    </tr>\n",
       "    <tr>\n",
       "      <th>2021-06-14 11:37</th>\n",
       "      <th>선불기1</th>\n",
       "      <th>치즈추가</th>\n",
       "      <th>신용카드</th>\n",
       "      <th>결제완료</th>\n",
       "      <th>1</th>\n",
       "      <th>500</th>\n",
       "      <th>customer950393</th>\n",
       "      <th>2021-06</th>\n",
       "      <td>3</td>\n",
       "    </tr>\n",
       "    <tr>\n",
       "      <th>2021-03-23 13:41</th>\n",
       "      <th>선불기1</th>\n",
       "      <th>계란추가</th>\n",
       "      <th>신용카드</th>\n",
       "      <th>결제완료</th>\n",
       "      <th>1</th>\n",
       "      <th>500</th>\n",
       "      <th>customer556974</th>\n",
       "      <th>2021-03</th>\n",
       "      <td>3</td>\n",
       "    </tr>\n",
       "    <tr>\n",
       "      <th>2021-11-29 19:20</th>\n",
       "      <th>선불기1</th>\n",
       "      <th>김치볶음밥</th>\n",
       "      <th>신용카드</th>\n",
       "      <th>결제완료</th>\n",
       "      <th>1</th>\n",
       "      <th>5000</th>\n",
       "      <th>customer975556</th>\n",
       "      <th>2021-11</th>\n",
       "      <td>3</td>\n",
       "    </tr>\n",
       "    <tr>\n",
       "      <th>2021-06-16 12:17</th>\n",
       "      <th>선불기1</th>\n",
       "      <th>라면</th>\n",
       "      <th>신용카드</th>\n",
       "      <th>결제완료</th>\n",
       "      <th>1</th>\n",
       "      <th>4000</th>\n",
       "      <th>customer996256</th>\n",
       "      <th>2021-06</th>\n",
       "      <td>3</td>\n",
       "    </tr>\n",
       "    <tr>\n",
       "      <th>2021-08-22 17:12</th>\n",
       "      <th>선불기1</th>\n",
       "      <th>라면</th>\n",
       "      <th>신용카드</th>\n",
       "      <th>결제완료</th>\n",
       "      <th>1</th>\n",
       "      <th>4000</th>\n",
       "      <th>customer439220</th>\n",
       "      <th>2021-08</th>\n",
       "      <td>3</td>\n",
       "    </tr>\n",
       "    <tr>\n",
       "      <th>2021-04-25 18:31</th>\n",
       "      <th>선불기1</th>\n",
       "      <th>김치볶음밥</th>\n",
       "      <th>신용카드</th>\n",
       "      <th>결제완료</th>\n",
       "      <th>1</th>\n",
       "      <th>5000</th>\n",
       "      <th>customer304481</th>\n",
       "      <th>2021-04</th>\n",
       "      <td>3</td>\n",
       "    </tr>\n",
       "  </tbody>\n",
       "</table>\n",
       "</div>"
      ],
      "text/plain": [
       "                                                                        0\n",
       "결제일시             판매위치 상품명   결제방식 비고   판매수량 결제금액 고객             date      \n",
       "2021-10-05 13:33 선불기1 치즈추가  현금   결제완료 1    500  customer803089 2021-10  4\n",
       "                      라면    현금   결제완료 1    4000 customer803089 2021-10  4\n",
       "2021-10-07 10:05 선불기1 시럽추가  신용카드 결제완료 1    500  customer777135 2021-10  4\n",
       "2021-06-19 21:02 선불기1 라면    신용카드 결제완료 1    4000 customer283589 2021-06  4\n",
       "2021-06-14 11:37 선불기1 치즈추가  신용카드 결제완료 1    500  customer950393 2021-06  3\n",
       "2021-03-23 13:41 선불기1 계란추가  신용카드 결제완료 1    500  customer556974 2021-03  3\n",
       "2021-11-29 19:20 선불기1 김치볶음밥 신용카드 결제완료 1    5000 customer975556 2021-11  3\n",
       "2021-06-16 12:17 선불기1 라면    신용카드 결제완료 1    4000 customer996256 2021-06  3\n",
       "2021-08-22 17:12 선불기1 라면    신용카드 결제완료 1    4000 customer439220 2021-08  3\n",
       "2021-04-25 18:31 선불기1 김치볶음밥 신용카드 결제완료 1    5000 customer304481 2021-04  3"
      ]
     },
     "execution_count": 13,
     "metadata": {},
     "output_type": "execute_result"
    }
   ],
   "source": [
    "# 집계 결과를 데이터프레임으로 변환하고, 상위 10개 선정하기\n",
    "b_df = pd.DataFrame(b)\n",
    "b_df[:10]"
   ]
  },
  {
   "cell_type": "code",
   "execution_count": 14,
   "id": "820474ff",
   "metadata": {},
   "outputs": [],
   "source": [
    "# 한글이 포함된 시각화를 위해 Matplotlib 설정\n",
    "import matplotlib.pyplot as plt\n",
    "import matplotlib as mpl\n",
    "from matplotlib import font_manager, rc\n",
    "\n",
    "font_path = \"/usr/share/fonts/truetype/nanum/NanumGothic.ttf\"\n",
    "font = font_manager.FontProperties(fname=font_path).get_name()\n",
    "rc('font', family=font)"
   ]
  },
  {
   "cell_type": "code",
   "execution_count": 15,
   "id": "8e119292",
   "metadata": {},
   "outputs": [
    {
     "data": {
      "text/plain": [
       "Text(0.5, 1.0, '가장 인기 있는 음식/음료 판매개수')"
      ]
     },
     "execution_count": 15,
     "metadata": {},
     "output_type": "execute_result"
    },
    {
     "data": {
      "image/png": "[encoded data removed]",
      "text/plain": [
       "<Figure size 432x288 with 1 Axes>"
      ]
     },
     "metadata": {
      "needs_background": "light"
     },
     "output_type": "display_data"
    }
   ],
   "source": [
    "# 집계 결과를 시각화하기\n",
    "b_df[:10].plot(kind='bar')\n",
    "plt.title('가장 인기 있는 음식/음료 판매개수')"
   ]
  },
  {
   "cell_type": "markdown",
   "id": "4a1c3895",
   "metadata": {},
   "source": [
    "# 여러 메뉴들(음식,음료)을 판매 매출(판매 개수 x 결제 금액) 순으로 정렬하고 상위 10개를 뽑아 결과를 시각화해봅니다."
   ]
  },
  {
   "cell_type": "code",
   "execution_count": 16,
   "id": "43e1528f",
   "metadata": {},
   "outputs": [
    {
     "data": {
      "text/plain": [
       "상품명\n",
       "(면)계란추가-국물라면           5000\n",
       "(면)계란후라이 추가-불닭/짜장     20000\n",
       "(면)치즈추가               10500\n",
       "(밥)계란후라이 추가            3000\n",
       "(밥)슈레드치즈추가             4500\n",
       "                      ...  \n",
       "한돈간장불고기덮밥            112500\n",
       "한돈고추장불고기덮밥           127500\n",
       "허니밀크쉐이크              114000\n",
       "헤이즐넛라떼(HOT)            9000\n",
       "헤이즐넛라떼(ICE)           67500\n",
       "Name: 결제금액, Length: 100, dtype: int64"
      ]
     },
     "execution_count": 16,
     "metadata": {},
     "output_type": "execute_result"
    }
   ],
   "source": [
    "# temp_var의 payment열을 상품명을 기준으로 집계하기\n",
    "# 주의! value_counts로 바로 집계하면 판매취소와 결제취소가 함께 집계됩니다\n",
    "c = temp_var['결제금액'].groupby(temp_var['상품명'][temp_var['판매수량']!=-1]).sum()  \n",
    "c"
   ]
  },
  {
   "cell_type": "code",
   "execution_count": 17,
   "id": "e04e4f79",
   "metadata": {},
   "outputs": [
    {
     "data": {
      "text/plain": [
       "상품명\n",
       "김치볶음밥         6004400\n",
       "라면            2941500\n",
       "치즈불고기볶음밥      2292600\n",
       "짜장라면          2038500\n",
       "낙지볶음밥         1710700\n",
       "새우볶음밥         1539800\n",
       "치즈감자튀김        1354200\n",
       "감자튀김          1083800\n",
       "아메리카노(ICE)    1058100\n",
       "불닭볶음면          693000\n",
       "Name: 결제금액, dtype: int64"
      ]
     },
     "execution_count": 17,
     "metadata": {},
     "output_type": "execute_result"
    }
   ],
   "source": [
    "# item_payment의 값을 내림차순으로 정렬하고 상위 10개 도출하기\n",
    "d = c.sort_values(ascending=False)\n",
    "d.head(10)"
   ]
  },
  {
   "cell_type": "code",
   "execution_count": 18,
   "id": "52a2db9c",
   "metadata": {},
   "outputs": [
    {
     "data": {
      "text/plain": [
       "Text(0.5, 1.0, '판매 매출 상위 10개')"
      ]
     },
     "execution_count": 18,
     "metadata": {},
     "output_type": "execute_result"
    },
    {
     "data": {
      "image/png": "[encoded data removed]",
      "text/plain": [
       "<Figure size 432x288 with 1 Axes>"
      ]
     },
     "metadata": {
      "needs_background": "light"
     },
     "output_type": "display_data"
    }
   ],
   "source": [
    "# 집계 결과 시각화하기\n",
    "d.head(10).plot(kind='bar')\n",
    "plt.title('판매 매출 상위 10개')"
   ]
  },
  {
   "cell_type": "markdown",
   "id": "45ce4898",
   "metadata": {},
   "source": [
    "# 필수 문제3: 가장 많이 팔린 입장권 종류(entry_data를 이용합니다.)\n",
    "### 여러 입장권 종류를 판매 매출(판매 개수 x 금액) 순으로 정렬하고 상위 10개를 뽑아 결과를 시각화해봅니다."
   ]
  },
  {
   "cell_type": "code",
   "execution_count": 19,
   "id": "7f38a87e",
   "metadata": {},
   "outputs": [],
   "source": [
    "# 활용할 데이터(entry_data)를 temp_var로 정의하기\n",
    "temp_var = entry_data"
   ]
  },
  {
   "cell_type": "code",
   "execution_count": 20,
   "id": "5e8e9fc2",
   "metadata": {},
   "outputs": [],
   "source": [
    "# temp_var의 금액을 숫자형태로 변환하기\n",
    "temp_var['금액'] = temp_var['금액'].astype(int)"
   ]
  },
  {
   "cell_type": "code",
   "execution_count": 21,
   "id": "b5ef8591",
   "metadata": {},
   "outputs": [],
   "source": [
    "# temp_var의 금액을 요금제명을 기준으로 집계하기\n",
    "e = temp_var['금액'].groupby(temp_var['요금제명']).sum()"
   ]
  },
  {
   "cell_type": "code",
   "execution_count": 22,
   "id": "0ad0821a",
   "metadata": {},
   "outputs": [
    {
     "data": {
      "text/plain": [
       "요금제명\n",
       "한국대생 입장권(종일권)      70037000\n",
       "입장권(종일권)           23570500\n",
       "심야-조조무제한(06시까지)    11600000\n",
       "심야-조조무제한            6221000\n",
       "한국대생 무제한 입장권        5207500\n",
       "시간요금제(1시간)          2665500\n",
       "시간요금제(3시간)          2042000\n",
       "무제한 입장권             1568600\n",
       "18시이후 무제한           1330500\n",
       "조조무제한                693000\n",
       "Name: 금액, dtype: int64"
      ]
     },
     "execution_count": 22,
     "metadata": {},
     "output_type": "execute_result"
    }
   ],
   "source": [
    "# tickets의 값을 내림차순으로 정렬하고 상위 10개 도출하기\n",
    "f = e.sort_values(ascending=False)\n",
    "f.head(10)"
   ]
  },
  {
   "cell_type": "code",
   "execution_count": 23,
   "id": "d7a22303",
   "metadata": {
    "scrolled": false
   },
   "outputs": [
    {
     "data": {
      "text/plain": [
       "Text(0.5, 1.0, '가장 많이 팔린 입장권 종류')"
      ]
     },
     "execution_count": 23,
     "metadata": {},
     "output_type": "execute_result"
    },
    {
     "data": {
      "image/png": "[encoded data removed]",
      "text/plain": [
       "<Figure size 432x288 with 1 Axes>"
      ]
     },
     "metadata": {
      "needs_background": "light"
     },
     "output_type": "display_data"
    }
   ],
   "source": [
    "# 집계 결과 시각화하기\n",
    "f.head(10).plot(kind='bar')\n",
    "plt.title('가장 많이 팔린 입장권 종류')"
   ]
  },
  {
   "cell_type": "markdown",
   "id": "2bd50452",
   "metadata": {},
   "source": [
    "# 내가 정의한 문제 해결하기"
   ]
  },
  {
   "cell_type": "code",
   "execution_count": 24,
   "id": "06653842",
   "metadata": {},
   "outputs": [],
   "source": [
    "# 1. 입장이 가장 많은 시간 확인 - entry_data\n",
    "# 2. 시간별 음식/음료 판매량 확인 - sales_data"
   ]
  },
  {
   "cell_type": "code",
   "execution_count": 25,
   "id": "64288e14",
   "metadata": {},
   "outputs": [],
   "source": [
    "ed = entry_data"
   ]
  },
  {
   "cell_type": "code",
   "execution_count": 26,
   "id": "d9c37151",
   "metadata": {},
   "outputs": [],
   "source": [
    "ed['입실시간'] = ed['입실'].str[-5:-3]"
   ]
  },
  {
   "cell_type": "markdown",
   "id": "636a6d75",
   "metadata": {},
   "source": [
    "### 입실을 가장 많이한 시간별로 정리"
   ]
  },
  {
   "cell_type": "code",
   "execution_count": 53,
   "id": "22645c8a",
   "metadata": {},
   "outputs": [
    {
     "data": {
      "text/plain": [
       "Text(0.5, 1.0, '입실을 가장 많이한 시간별로 정리')"
      ]
     },
     "execution_count": 53,
     "metadata": {},
     "output_type": "execute_result"
    },
    {
     "data": {
      "image/png": "[encoded data removed]",
      "text/plain": [
       "<Figure size 432x288 with 1 Axes>"
      ]
     },
     "metadata": {
      "needs_background": "light"
     },
     "output_type": "display_data"
    }
   ],
   "source": [
    "sns.countplot(data=ed, x=ed['입실시간'], order=ed['입실시간'].value_counts().index)\n",
    "plt.title('입실을 가장 많이한 시간별로 정리')"
   ]
  },
  {
   "cell_type": "code",
   "execution_count": 28,
   "id": "20b00feb",
   "metadata": {},
   "outputs": [],
   "source": [
    "sd = sales_data"
   ]
  },
  {
   "cell_type": "code",
   "execution_count": 29,
   "id": "40cc2387",
   "metadata": {},
   "outputs": [
    {
     "data": {
      "text/html": [
       "<div>\n",
       "<style scoped>\n",
       "    .dataframe tbody tr th:only-of-type {\n",
       "        vertical-align: middle;\n",
       "    }\n",
       "\n",
       "    .dataframe tbody tr th {\n",
       "        vertical-align: top;\n",
       "    }\n",
       "\n",
       "    .dataframe thead th {\n",
       "        text-align: right;\n",
       "    }\n",
       "</style>\n",
       "<table border=\"1\" class=\"dataframe\">\n",
       "  <thead>\n",
       "    <tr style=\"text-align: right;\">\n",
       "      <th></th>\n",
       "      <th>결제일시</th>\n",
       "      <th>판매위치</th>\n",
       "      <th>상품명</th>\n",
       "      <th>결제방식</th>\n",
       "      <th>비고</th>\n",
       "      <th>판매수량</th>\n",
       "      <th>결제금액</th>\n",
       "      <th>고객</th>\n",
       "      <th>date</th>\n",
       "      <th>결제시간</th>\n",
       "    </tr>\n",
       "  </thead>\n",
       "  <tbody>\n",
       "    <tr>\n",
       "      <th>0</th>\n",
       "      <td>2022-04-01 19:41</td>\n",
       "      <td>선불기1</td>\n",
       "      <td>치킨카라아케 6pc</td>\n",
       "      <td>신용카드</td>\n",
       "      <td>결제완료</td>\n",
       "      <td>1</td>\n",
       "      <td>4500</td>\n",
       "      <td>customer275507</td>\n",
       "      <td>2022-04</td>\n",
       "      <td>19</td>\n",
       "    </tr>\n",
       "    <tr>\n",
       "      <th>1</th>\n",
       "      <td>2022-04-01 19:41</td>\n",
       "      <td>선불기1</td>\n",
       "      <td>짜장라면(계란추가)</td>\n",
       "      <td>신용카드</td>\n",
       "      <td>결제완료</td>\n",
       "      <td>1</td>\n",
       "      <td>5500</td>\n",
       "      <td>customer275507</td>\n",
       "      <td>2022-04</td>\n",
       "      <td>19</td>\n",
       "    </tr>\n",
       "    <tr>\n",
       "      <th>2</th>\n",
       "      <td>2022-04-01 19:41</td>\n",
       "      <td>선불기1</td>\n",
       "      <td>라면</td>\n",
       "      <td>신용카드</td>\n",
       "      <td>결제완료</td>\n",
       "      <td>1</td>\n",
       "      <td>4000</td>\n",
       "      <td>customer275507</td>\n",
       "      <td>2022-04</td>\n",
       "      <td>19</td>\n",
       "    </tr>\n",
       "    <tr>\n",
       "      <th>3</th>\n",
       "      <td>2022-04-01 19:41</td>\n",
       "      <td>선불기1</td>\n",
       "      <td>비엔나소세지(토핑)</td>\n",
       "      <td>신용카드</td>\n",
       "      <td>결제완료</td>\n",
       "      <td>1</td>\n",
       "      <td>1000</td>\n",
       "      <td>customer275507</td>\n",
       "      <td>2022-04</td>\n",
       "      <td>19</td>\n",
       "    </tr>\n",
       "    <tr>\n",
       "      <th>4</th>\n",
       "      <td>2022-04-01 19:41</td>\n",
       "      <td>선불기1</td>\n",
       "      <td>라면(계란/치즈추가)</td>\n",
       "      <td>신용카드</td>\n",
       "      <td>결제완료</td>\n",
       "      <td>1</td>\n",
       "      <td>5000</td>\n",
       "      <td>customer275507</td>\n",
       "      <td>2022-04</td>\n",
       "      <td>19</td>\n",
       "    </tr>\n",
       "  </tbody>\n",
       "</table>\n",
       "</div>"
      ],
      "text/plain": [
       "               결제일시  판매위치          상품명  결제방식    비고  판매수량  결제금액  \\\n",
       "0  2022-04-01 19:41  선불기1   치킨카라아케 6pc  신용카드  결제완료     1  4500   \n",
       "1  2022-04-01 19:41  선불기1   짜장라면(계란추가)  신용카드  결제완료     1  5500   \n",
       "2  2022-04-01 19:41  선불기1           라면  신용카드  결제완료     1  4000   \n",
       "3  2022-04-01 19:41  선불기1   비엔나소세지(토핑)  신용카드  결제완료     1  1000   \n",
       "4  2022-04-01 19:41  선불기1  라면(계란/치즈추가)  신용카드  결제완료     1  5000   \n",
       "\n",
       "               고객     date 결제시간  \n",
       "0  customer275507  2022-04   19  \n",
       "1  customer275507  2022-04   19  \n",
       "2  customer275507  2022-04   19  \n",
       "3  customer275507  2022-04   19  \n",
       "4  customer275507  2022-04   19  "
      ]
     },
     "execution_count": 29,
     "metadata": {},
     "output_type": "execute_result"
    }
   ],
   "source": [
    "sd['결제시간'] = sd['결제일시'].str[-5:-3]\n",
    "sd.head()"
   ]
  },
  {
   "cell_type": "markdown",
   "id": "80432581",
   "metadata": {},
   "source": [
    "###### 실제 판매된 정보만  가져오기"
   ]
  },
  {
   "cell_type": "code",
   "execution_count": 30,
   "id": "1a5be5b6",
   "metadata": {},
   "outputs": [
    {
     "data": {
      "text/html": [
       "<div>\n",
       "<style scoped>\n",
       "    .dataframe tbody tr th:only-of-type {\n",
       "        vertical-align: middle;\n",
       "    }\n",
       "\n",
       "    .dataframe tbody tr th {\n",
       "        vertical-align: top;\n",
       "    }\n",
       "\n",
       "    .dataframe thead th {\n",
       "        text-align: right;\n",
       "    }\n",
       "</style>\n",
       "<table border=\"1\" class=\"dataframe\">\n",
       "  <thead>\n",
       "    <tr style=\"text-align: right;\">\n",
       "      <th></th>\n",
       "      <th>결제일시</th>\n",
       "      <th>판매위치</th>\n",
       "      <th>상품명</th>\n",
       "      <th>결제방식</th>\n",
       "      <th>비고</th>\n",
       "      <th>판매수량</th>\n",
       "      <th>결제금액</th>\n",
       "      <th>고객</th>\n",
       "      <th>date</th>\n",
       "      <th>결제시간</th>\n",
       "    </tr>\n",
       "  </thead>\n",
       "  <tbody>\n",
       "    <tr>\n",
       "      <th>0</th>\n",
       "      <td>2022-04-01 19:41</td>\n",
       "      <td>선불기1</td>\n",
       "      <td>치킨카라아케 6pc</td>\n",
       "      <td>신용카드</td>\n",
       "      <td>결제완료</td>\n",
       "      <td>1</td>\n",
       "      <td>4500</td>\n",
       "      <td>customer275507</td>\n",
       "      <td>2022-04</td>\n",
       "      <td>19</td>\n",
       "    </tr>\n",
       "    <tr>\n",
       "      <th>1</th>\n",
       "      <td>2022-04-01 19:41</td>\n",
       "      <td>선불기1</td>\n",
       "      <td>짜장라면(계란추가)</td>\n",
       "      <td>신용카드</td>\n",
       "      <td>결제완료</td>\n",
       "      <td>1</td>\n",
       "      <td>5500</td>\n",
       "      <td>customer275507</td>\n",
       "      <td>2022-04</td>\n",
       "      <td>19</td>\n",
       "    </tr>\n",
       "    <tr>\n",
       "      <th>2</th>\n",
       "      <td>2022-04-01 19:41</td>\n",
       "      <td>선불기1</td>\n",
       "      <td>라면</td>\n",
       "      <td>신용카드</td>\n",
       "      <td>결제완료</td>\n",
       "      <td>1</td>\n",
       "      <td>4000</td>\n",
       "      <td>customer275507</td>\n",
       "      <td>2022-04</td>\n",
       "      <td>19</td>\n",
       "    </tr>\n",
       "    <tr>\n",
       "      <th>3</th>\n",
       "      <td>2022-04-01 19:41</td>\n",
       "      <td>선불기1</td>\n",
       "      <td>비엔나소세지(토핑)</td>\n",
       "      <td>신용카드</td>\n",
       "      <td>결제완료</td>\n",
       "      <td>1</td>\n",
       "      <td>1000</td>\n",
       "      <td>customer275507</td>\n",
       "      <td>2022-04</td>\n",
       "      <td>19</td>\n",
       "    </tr>\n",
       "    <tr>\n",
       "      <th>4</th>\n",
       "      <td>2022-04-01 19:41</td>\n",
       "      <td>선불기1</td>\n",
       "      <td>라면(계란/치즈추가)</td>\n",
       "      <td>신용카드</td>\n",
       "      <td>결제완료</td>\n",
       "      <td>1</td>\n",
       "      <td>5000</td>\n",
       "      <td>customer275507</td>\n",
       "      <td>2022-04</td>\n",
       "      <td>19</td>\n",
       "    </tr>\n",
       "  </tbody>\n",
       "</table>\n",
       "</div>"
      ],
      "text/plain": [
       "               결제일시  판매위치          상품명  결제방식    비고  판매수량  결제금액  \\\n",
       "0  2022-04-01 19:41  선불기1   치킨카라아케 6pc  신용카드  결제완료     1  4500   \n",
       "1  2022-04-01 19:41  선불기1   짜장라면(계란추가)  신용카드  결제완료     1  5500   \n",
       "2  2022-04-01 19:41  선불기1           라면  신용카드  결제완료     1  4000   \n",
       "3  2022-04-01 19:41  선불기1   비엔나소세지(토핑)  신용카드  결제완료     1  1000   \n",
       "4  2022-04-01 19:41  선불기1  라면(계란/치즈추가)  신용카드  결제완료     1  5000   \n",
       "\n",
       "               고객     date 결제시간  \n",
       "0  customer275507  2022-04   19  \n",
       "1  customer275507  2022-04   19  \n",
       "2  customer275507  2022-04   19  \n",
       "3  customer275507  2022-04   19  \n",
       "4  customer275507  2022-04   19  "
      ]
     },
     "execution_count": 30,
     "metadata": {},
     "output_type": "execute_result"
    }
   ],
   "source": [
    "sd_t = sd[sd['판매수량']==1]\n",
    "sd_t.head()"
   ]
  },
  {
   "cell_type": "markdown",
   "id": "e96b3c32",
   "metadata": {},
   "source": [
    "### 결제가 가장 많이 일어난 시간"
   ]
  },
  {
   "cell_type": "code",
   "execution_count": 51,
   "id": "52db13d3",
   "metadata": {},
   "outputs": [
    {
     "data": {
      "text/plain": [
       "Text(0.5, 1.0, '결제가 가장 많이 일어난 시간')"
      ]
     },
     "execution_count": 51,
     "metadata": {},
     "output_type": "execute_result"
    },
    {
     "data": {
      "image/png": "[encoded data removed]",
      "text/plain": [
       "<Figure size 432x288 with 1 Axes>"
      ]
     },
     "metadata": {
      "needs_background": "light"
     },
     "output_type": "display_data"
    }
   ],
   "source": [
    "sns.countplot(data=sd_t, x=sd_t['결제시간'], order=sd_t['결제시간'].value_counts().index)\n",
    "plt.title('결제가 가장 많이 일어난 시간')"
   ]
  },
  {
   "cell_type": "markdown",
   "id": "630cf29c",
   "metadata": {},
   "source": [
    "###### 음식 판매량이 가장 많은 시간대는 17~20시\n",
    "###### 입실을 가장 많이한 시간을 보면 17~20시는 절반 이상이다.\n",
    "### 결론 : 17~20시에 이용 고객 + 결제가 가장 많으니 이 시간대에 이벤트를 하여 단골을 확보하자"
   ]
  }
 ],
 "metadata": {
  "kernelspec": {
   "display_name": "Python 3 (ipykernel)",
   "language": "python",
   "name": "python3"
  },
  "language_info": {
   "codemirror_mode": {
    "name": "ipython",
    "version": 3
   },
   "file_extension": ".py",
   "mimetype": "text/x-python",
   "name": "python",
   "nbconvert_exporter": "python",
   "pygments_lexer": "ipython3",
   "version": "3.9.7"
  }
 },
 "nbformat": 4,
 "nbformat_minor": 5
}
